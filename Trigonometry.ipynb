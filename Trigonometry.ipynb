{
 "cells": [
  {
   "cell_type": "code",
   "execution_count": 5,
   "id": "679dc170-4dd5-430e-9708-eb4f4c572e14",
   "metadata": {},
   "outputs": [],
   "source": [
    "import numpy as np"
   ]
  },
  {
   "cell_type": "markdown",
   "id": "c22646d9-ed61-42e1-8a75-39af15e9de12",
   "metadata": {},
   "source": [
    "These functions simply call Numpy's sine and cosine functions over an array."
   ]
  },
  {
   "cell_type": "code",
   "execution_count": 6,
   "id": "36a0c4f8-e4e7-4cec-9d63-adc95383a870",
   "metadata": {},
   "outputs": [],
   "source": [
    "def sin(theta):\n",
    "    return np.sin(theta)"
   ]
  },
  {
   "cell_type": "code",
   "execution_count": 7,
   "id": "d16e3234-b19a-4c9e-8b74-420fd5d9fe5d",
   "metadata": {},
   "outputs": [],
   "source": [
    "def cos(theta):\n",
    "    return np.cos(theta)"
   ]
  },
  {
   "cell_type": "code",
   "execution_count": 8,
   "id": "8db6ba5d-2656-4347-ac22-46f3bdcc3a2c",
   "metadata": {},
   "outputs": [],
   "source": [
    "x = np.linspace(0, 2 * np.pi, 1000)\n",
    "sinx = sin(x)\n",
    "cosx = cos(x)"
   ]
  },
  {
   "cell_type": "code",
   "execution_count": 12,
   "id": "856a9151-0be9-4370-918a-c3d0ff08f79c",
   "metadata": {},
   "outputs": [
    {
     "name": "stdout",
     "output_type": "stream",
     "text": [
      "x           |  sin x       |  cos x\n",
      "0.00000000  |  0.00000000  |  1.00000000\n",
      "0.00628947  |  0.00628943  |  0.99998022\n",
      "0.01257895  |  0.01257862  |  0.99992089\n",
      "0.01886842  |  0.01886730  |  0.99982200\n",
      "0.02515790  |  0.02515525  |  0.99968356\n",
      "0.03144737  |  0.03144219  |  0.99950557\n",
      "0.03773685  |  0.03772789  |  0.99928805\n",
      "0.04402632  |  0.04401210  |  0.99903100\n",
      "0.05031580  |  0.05029457  |  0.99873443\n",
      "0.05660527  |  0.05657505  |  0.99839835\n"
     ]
    }
   ],
   "source": [
    "print('x           |  sin x       |  cos x')\n",
    "for i in range(10):\n",
    "    print(f'{x[i]:.8f}', end='  |  ')\n",
    "    print(f'{sinx[i]:.8f}', end='  |  ')\n",
    "    print(f'{cosx[i]:.8f}')"
   ]
  },
  {
   "cell_type": "code",
   "execution_count": null,
   "id": "deb89833-5217-4d56-a2ec-1c1b2f9d51ce",
   "metadata": {},
   "outputs": [],
   "source": []
  }
 ],
 "metadata": {
  "kernelspec": {
   "display_name": "ASTR 19",
   "language": "python",
   "name": "astr19"
  },
  "language_info": {
   "codemirror_mode": {
    "name": "ipython",
    "version": 3
   },
   "file_extension": ".py",
   "mimetype": "text/x-python",
   "name": "python",
   "nbconvert_exporter": "python",
   "pygments_lexer": "ipython3",
   "version": "3.10.12"
  }
 },
 "nbformat": 4,
 "nbformat_minor": 5
}
